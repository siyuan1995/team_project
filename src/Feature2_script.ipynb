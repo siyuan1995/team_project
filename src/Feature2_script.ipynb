{
 "cells": [
  {
   "cell_type": "code",
   "execution_count": null,
   "metadata": {},
   "outputs": [],
   "source": [
    "# Feature to be here.\n",
    "\n",
    "import pandas as pd\n",
    "import numpy as np\n",
    "df = pd.read_csv('../data/raw/BankChurners.csv')# read the raw data from the relative path\n",
    "# Get the dataframe for predictor varaiable and Credit_limits\n",
    "df_predictor=df[['Credit_Limit','Customer_Age','Gender','Dependent_count','Education_Level','Marital_Status','Income_Category','Months_on_book','Total_Relationship_Count','Months_Inactive_12_mon','Avg_Utilization_Ratio','Total_Revolving_Bal']]\n",
    "df_predictor\n",
    "# Replace Unknow value with NaN and drop the rows that contains these value\n",
    "df_replaced = df_predictor.replace(\"Unknown\", np.nan)\n",
    "df_cleaned = df_replaced.dropna()\n",
    "df_cleaned\n",
    "# Check if there is blank value and get rid of it if there is.\n",
    "has_blank = (df_cleaned == '').any().any()\n",
    "has_blank\n",
    "# Get the dataframe only needed for the regression analysis\n",
    "df_new = df_cleaned.iloc[:,:12]\n",
    "df_new\n",
    "# Encode the gender variable\n",
    "df_new['Gender'] =df_new['Gender'].map({'M': 1, 'F': 0})\n",
    "# Encode other variables education, marita, income using one hot method\n",
    "df_encoded = pd.get_dummies(df_new, columns=['Education_Level', 'Marital_Status','Income_Category'], prefix=['edu', 'marital','income'])\n",
    "df_encoded = df_encoded.astype(float)\n",
    "df_encoded\n",
    "# Out put the cleaned data under folder data/processed to be used for the regression analysis.\n",
    "df_encoded.to_csv('../data/processed/CleanData_OneHotEncoded.csv')\n",
    "\n",
    "'''\n",
    "Explaination:\n",
    "\n",
    "We removed rows with unknown / unavailable records in any of the potential predicting variables and we were left with 7,081 observations out of the 10,128 observations present in the data set.\n",
    "\tCategorical variables encoding:\n",
    "\tGender: Was encoded M=1, F=0. Since the records are binary no new encoded columns were created for this variable.\n",
    "    Education_Level: Reference group= Uneducated. Encoded Columns= 'edu_College', 'edu_Doctorate',  'edu_Graduate', 'edu_High School', 'edu_Post-Graduate'\n",
    "    Marital_Status:  Reference group= Single . Encoded Columns= ‘marital_Divorced', 'marital_Married’\n",
    "    Income: Reference group= ‘Less than $40K’. Encoded Columns=  'income_$120K +', 'income_$40K - $60K', 'income_$60K - $80K', 'income_$80K - $120K'\n",
    "\n",
    "'''\n",
    "\n",
    "\n",
    "\n",
    "\n",
    "\n",
    "\n"
   ]
  }
 ],
 "metadata": {
  "kernelspec": {
   "display_name": "Python 3 (ipykernel)",
   "language": "python",
   "name": "python3"
  },
  "language_info": {
   "codemirror_mode": {
    "name": "ipython",
    "version": 3
   },
   "file_extension": ".py",
   "mimetype": "text/x-python",
   "name": "python",
   "nbconvert_exporter": "python",
   "pygments_lexer": "ipython3",
   "version": "3.11.5"
  }
 },
 "nbformat": 4,
 "nbformat_minor": 5
}
