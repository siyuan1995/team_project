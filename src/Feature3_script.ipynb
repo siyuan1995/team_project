{
 "cells": [
  {
   "cell_type": "code",
   "execution_count": null,
   "metadata": {},
   "outputs": [],
   "source": [
    "# Feature 3, Regression Analysis – Train vs Test and Different Models – Linear Regression\n",
    "\n",
    "# Import standard libraries\n",
    "import numpy as np\n",
    "import pandas as pd\n",
    "import seaborn as sns\n",
    "from matplotlib.pyplot import subplots\n",
    "import statsmodels.api as sm\n",
    "import matplotlib.pyplot as plt\n",
    "from sklearn.linear_model import LinearRegression\n",
    "from sklearn.preprocessing import OneHotEncoder\n",
    "\n",
    "# Import specific objects\n",
    "from sklearn.preprocessing import StandardScaler\n",
    "from sklearn.neighbors import KNeighborsClassifier\n",
    "\n",
    "from statsmodels.stats.outliers_influence \\\n",
    "     import variance_inflation_factor as VIF\n",
    "from statsmodels.stats.anova import anova_lm\n",
    "\n",
    "from ISLP import load_data\n",
    "from ISLP.models import (ModelSpec as MS,\n",
    "                         summarize,\n",
    "                         poly)\n"
   ]
  },
  {
   "cell_type": "code",
   "execution_count": null,
   "id": "de302d41",
   "metadata": {},
   "outputs": [],
   "source": [
    "# Feature 3, Regression Analysis – Train vs Test and Different Models – Linear Regression\n",
    "\n",
    "# Import standard libraries\n",
    "import numpy as np\n",
    "import pandas as pd\n",
    "import seaborn as sns\n",
    "from matplotlib.pyplot import subplots\n",
    "import statsmodels.api as sm\n",
    "import matplotlib.pyplot as plt\n",
    "from sklearn.linear_model import LinearRegression\n",
    "from sklearn.preprocessing import OneHotEncoder\n",
    "\n",
    "# Import specific objects\n",
    "from sklearn.preprocessing import StandardScaler\n",
    "from sklearn.neighbors import KNeighborsClassifier\n",
    "\n",
    "from statsmodels.stats.outliers_influence \\\n",
    "     import variance_inflation_factor as VIF\n",
    "from statsmodels.stats.anova import anova_lm\n",
    "\n",
    "from ISLP import load_data\n",
    "from ISLP.models import (ModelSpec as MS,\n",
    "                         summarize,\n",
    "                         poly)"
   ]
  },
  {
   "cell_type": "code",
   "execution_count": null,
   "id": "f672a3bf",
   "metadata": {},
   "outputs": [],
   "source": [
    "# Load the CSV file\n",
    "file_path = r\"../data/processed/CleanData_OneHotEncoded.csv\"\n",
    "df = pd.read_csv(file_path)"
   ]
  },
  {
   "cell_type": "code",
   "execution_count": null,
   "id": "341834c6",
   "metadata": {},
   "outputs": [],
   "source": [
    "# Dropping one dummy variable from each categorical variable set to avoid Multicolinearity\n",
    "df_dropped = df.drop(columns=['edu_Uneducated','marital_Single','income_Less than $40K'])\n",
    "df_dropped.columns"
   ]
  },
  {
   "cell_type": "code",
   "execution_count": null,
   "id": "5b70a843",
   "metadata": {},
   "outputs": [],
   "source": [
    "#MODEL 1: INCLUDING ONLY DEMOGRAPHIC VARIABLES, CARD MONTHS ON BOOKS, NUMBER OF RELATIONSHIPS WITH BANK\n",
    "# defining target variable y and predictors matrix\n",
    "X1 = df_dropped.drop(columns=['Credit_Limit','Unnamed: 0','Months_Inactive_12_mon','Avg_Utilization_Ratio','Total_Revolving_Bal' ])\n",
    "y1 = df_dropped['Credit_Limit']\n",
    "\n",
    "# Add a constant term for the intercept\n",
    "X1 = sm.add_constant(X1)\n",
    "\n",
    "# Fit the model\n",
    "model1 = sm.OLS(y1, X1).fit()\n",
    "\n",
    "# Output the summary\n",
    "print(model1.summary())"
   ]
  },
  {
   "cell_type": "code",
   "execution_count": null,
   "id": "90501b4d",
   "metadata": {},
   "outputs": [],
   "source": [
    "#MODEL 2: INCLUDING ALL POTENTIAL PREDICTORS\n",
    "# defining target variable y and predictors matrix\n",
    "X2 = df_dropped.drop(columns=['Credit_Limit','Unnamed: 0'])\n",
    "y2 = df_dropped['Credit_Limit']\n",
    "\n",
    "# Add a constant term for the intercept\n",
    "X2 = sm.add_constant(X2)\n",
    "\n",
    "# Fit the model\n",
    "model2 = sm.OLS(y2, X2).fit()\n",
    "\n",
    "# Output the summary\n",
    "print(model2.summary())"
   ]
  },
  {
   "cell_type": "code",
   "execution_count": null,
   "id": "49028f34",
   "metadata": {},
   "outputs": [],
   "source": [
    "#MODEL 3: SIMPLIFIED MODEL\n",
    "# defining target variable y and predictors matrix\n",
    "X3 = df_dropped.drop(columns=['Credit_Limit','Unnamed: 0','Customer_Age','Gender','Months_on_book','Months_Inactive_12_mon',\n",
    "                              'edu_College','edu_Doctorate','edu_Graduate','edu_High School','edu_Post-Graduate', 'marital_Divorced',\n",
    "                              'income_$40K - $60K'])\n",
    "y3 = df_dropped['Credit_Limit']\n",
    "\n",
    "# Add a constant term for the intercept\n",
    "X3 = sm.add_constant(X3)\n",
    "\n",
    "# Fit the model\n",
    "model3 = sm.OLS(y3, X3).fit()\n",
    "\n",
    "# Output the summary\n",
    "print(model3.summary())"
   ]
  },
  {
   "cell_type": "markdown",
   "id": "6a308acf",
   "metadata": {},
   "source": [
    "## REGRESSION ANALYSIS\n",
    "\n",
    "### MODEL 1: USING ONLY DEMOGRAPHIC AND CUSTOMER CONTACT HISTORY WITH BANK\n",
    "To first explore the client’s main question, that is, whether credit limits can be predicted solely based on the customers’ demographic characteristics and their contact history with a bank, we fit a linear regression model for our target variable (Credit_Limit) using as predictors only the demographic variables in the dataset (Customer_Age, Gender, Dependent_count, Education_Level, Marital_Status, Income) along with two contact history variables (Months_on_book, Total_Relationship_Count).\n",
    "With and R-squared of 0.384, that is, only 38% of the variation in Credit_Limit is explained by the variation of the selected variables. This suggests that including only these variables would not be sufficient to fit a model that successfully predicts Credit Limit for the purposes of the client’s intended application.\n",
    "\n",
    "Despite this, looking at the significance of the variables can shed some light into which of these variables could be relevant to determine a customer’s credit card limit if we were to add other relevant variables that may be missing in the dataset. It is to note that because the model is poorly fit, the significance of some of these variables would change if we add other important variables that explain the variability in credit limit.\n",
    "Customer Age, Education Level and Months on book (months since customer's card first activation) are not significant in this model, while for Marital Status, there’s only a significant impact if a customer is married in comparison with single customers (the reference group), that is a divorced customer’s credit limit is not significantly different from the credit limit of a single customer.\n",
    "\n",
    "In this model, gender is significant (being Male yields a higher credit limit), credit limit increases with number of dependents, decreases with the Number of open products (relationship count)  that the customer has with the bank (probably influenced by products being credit-related products than asset holding accounts), and increases at higher income as one would expect.\n",
    "\n",
    "\n",
    "### MODEL 2: MODEL 1 + CREDIT CARD USAGE VARIABLES\n",
    "For this model, we included 3 credit card usage variables available in the dataset (Months_Inactive_12_mon, Avg_Utilization_Ratio and Total_Revolving_Balance) on top of the ones in Model 1,  to use all potential predictors and incorporate interactions between them that were not considered before.\n",
    "\n",
    "The R-squared increased considerably when adding these predictors but it is still only 0.55,  which suggests that 45% of the variation in Credit_Limit is explained by other variables that are beyond the reach of the selected dataset.\n",
    "\n",
    "Of the three added credit card utilization only Months inactive within the last 12 months is not significant as indicated by its p-value.\n",
    "It is important to note that as opposed to Model 1, Gender is not significant in this model which illustrates that the differences in credit limit by gender found before where mostly explained by the combination of gender and card utilization ratio and revolving balances, which may be explained by sampling more than by systemic discrimination based on gender.\n",
    "\n",
    "Another difference with the results in Model 1 is the non-significance of the income bracket $40K - $60K which, with the caveat of the non-robust fit of the model, suggests that there is little material difference in the Credit Limit that can be achieved by customers in this income bracket and customers earning Less than $40K when considered in combination with the other predictors in Model 2.\n",
    "\n",
    "### MODEL 3: SIGNIFICANT VARIABLES ONLY\n",
    "Model 3 includes only the significant variables found in Model 2. The value of the predictors don’t change dramatically when compared to their Model 2 counterparts and the R-squared value is still 0.55.\n",
    "\n",
    "\n",
    "### REGRESSION ANALYSIS TAKEAWAYS\n",
    "- The non-robust results found in our first model allowed us to answer one of the questions asked by the client: Can credit limits be predicted solely based on the customers’ demographic characteristics and their contact history with a bank? We found including only these variables would not be sufficient to fit a model that successfully predicts Credit Limit for the purposes of the client’s intended application.\n",
    "\n",
    "- Despite this, the consistent significance of some of the variables throughout the regression analysis suggests that including Dependent Count, Total Relationship Count, Avg. Utilization Ratio, Total Revolving Balance, asking users if they’re Married or not, and their income brackets could be relevant variables to collect in the app’s questionnaire, that is, in combination with other variables unavailable in the dataset.\n",
    "\n",
    "- One main limitation of the database is that it was originally intended to predict credit card churn and not necessarily predict credit limit as our project. As such, the database is missing some key variables to determine Credit Limit such as Credit Score, Customer Net Worth, among others. In the next phase of the project we aim to find this complementary data and add it to our analysis in order to fulfill the second part of the client’s request.\n",
    "\n",
    "- Another limitation is the assumption of representativeness of the limited data set. We aim to acquire a more comprehensive dataset that ensures proper representation of credit card users.\n",
    "\n"
   ]
  }
 ],
 "metadata": {
  "kernelspec": {
   "display_name": "Python 3 (ipykernel)",
   "language": "python",
   "name": "python3"
  },
  "language_info": {
   "codemirror_mode": {
    "name": "ipython",
    "version": 3
   },
   "file_extension": ".py",
   "mimetype": "text/x-python",
   "name": "python",
   "nbconvert_exporter": "python",
   "pygments_lexer": "ipython3",
   "version": "3.9.15"
  }
 },
 "nbformat": 4,
 "nbformat_minor": 5
}
